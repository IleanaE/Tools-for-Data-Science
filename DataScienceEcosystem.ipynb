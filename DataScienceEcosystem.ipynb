{
 "cells": [
  {
   "cell_type": "markdown",
   "id": "49067fa9-dbad-4152-8fb1-6c8c6d724409",
   "metadata": {},
   "source": [
    "# Data Science Tools and Ecosystem"
   ]
  },
  {
   "cell_type": "markdown",
   "id": "b7e85e51-c013-4766-bec6-294208bf4f3a",
   "metadata": {},
   "source": [
    "In this notebook, Data Science Tools and Ecosystem are summarized."
   ]
  },
  {
   "cell_type": "markdown",
   "id": "d8fcc166-6fc1-42ef-b480-2db671a722ba",
   "metadata": {},
   "source": [
    "** Objectives: **\n",
    "- List popular languages for Data Science\n",
    "- List commonly used libraries for Data Science\n",
    "- List some Development Environment open source tools\n",
    "- Give some examples of evaluating arithmetic expressions in Python"
   ]
  },
  {
   "cell_type": "markdown",
   "id": "400fbf4e-af29-4fe9-95b6-ee37ead7bdf8",
   "metadata": {},
   "source": [
    "Some of the popular languages that Data Scientists use are:\n",
    "1. Python\n",
    "2. R\n",
    "3. Julia\n",
    "4. SQL\n",
    "5. Java\n",
    "6. JavaScript\n",
    "7. C++"
   ]
  },
  {
   "cell_type": "markdown",
   "id": "8c55fde3-979a-4c21-a65d-90fd0a9faf83",
   "metadata": {},
   "source": [
    "Some of the commonly used libraries used by Data Scientists include:\n",
    "1. Pandas\n",
    "2. NumPy\n",
    "3. SciPy\n",
    "4. Matplotlib\n",
    "5. SciKit-learn\n",
    "6. Keras\n",
    "7. TensorFlow\n",
    "8. PyTorch"
   ]
  },
  {
   "cell_type": "markdown",
   "id": "6958b683-26d5-4d93-9e8c-574d21f2e485",
   "metadata": {},
   "source": [
    "| Data Science Tools |\n",
    "| -----|\n",
    "| Jupyter Lab |\n",
    "| RStudio |\n",
    "| Visual Studio Code|"
   ]
  },
  {
   "cell_type": "markdown",
   "id": "9108f5d1-be38-4c0a-a077-96198c16b24c",
   "metadata": {},
   "source": [
    "### Below are a few examples of evaluating arithmetic expressions in Python:"
   ]
  },
  {
   "cell_type": "code",
   "execution_count": 12,
   "id": "14c4b67a-86b3-4a37-baeb-1fa6fede428f",
   "metadata": {},
   "outputs": [
    {
     "data": {
      "text/plain": [
       "17"
      ]
     },
     "execution_count": 12,
     "metadata": {},
     "output_type": "execute_result"
    }
   ],
   "source": [
    "# This a simple arithmetic expression to mutiply then add integers\n",
    "(3*4)+5"
   ]
  },
  {
   "cell_type": "code",
   "execution_count": 17,
   "id": "4b0825fe-6b5e-4a5d-8fb9-101c5b71b2ac",
   "metadata": {},
   "outputs": [
    {
     "name": "stdout",
     "output_type": "stream",
     "text": [
      "200 minutes is  3.3333333333333335 hours\n"
     ]
    }
   ],
   "source": [
    "# This will convert 200 minutes to hours by diving by 60\n",
    "a=200 / 60\n",
    "print (\"200 minutes is \" , a , \"hours\")"
   ]
  },
  {
   "cell_type": "markdown",
   "id": "991e9ab5-0d07-49d8-8c5b-abd9e9f229fe",
   "metadata": {},
   "source": [
    "## Author\n",
    "Iléana Esquerré"
   ]
  },
  {
   "cell_type": "code",
   "execution_count": null,
   "id": "d9df4455-eb1d-40fc-bb9b-565c5e76fe3e",
   "metadata": {},
   "outputs": [],
   "source": []
  }
 ],
 "metadata": {
  "kernelspec": {
   "display_name": "Python 3 (ipykernel)",
   "language": "python",
   "name": "python3"
  },
  "language_info": {
   "codemirror_mode": {
    "name": "ipython",
    "version": 3
   },
   "file_extension": ".py",
   "mimetype": "text/x-python",
   "name": "python",
   "nbconvert_exporter": "python",
   "pygments_lexer": "ipython3",
   "version": "3.12.4"
  }
 },
 "nbformat": 4,
 "nbformat_minor": 5
}
